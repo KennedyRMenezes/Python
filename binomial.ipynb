{
 "cells": [
  {
   "cell_type": "code",
   "execution_count": 1,
   "metadata": {},
   "outputs": [
    {
     "name": "stdout",
     "output_type": "stream",
     "text": [
      "P(X = 0) = C(16 0) -- 1 X 1.0 X 4.2949672960000036e-07 = 4.2949672960000036e-07\n",
      "P(X = 1) = C(16 1) -- 16 X 0.6 X 1.073741824000001e-06 = 1.0307921510400008e-05\n",
      "P(X = 2) = C(16 2) -- 120 X 0.36 X 2.684354560000002e-06 = 0.00011596411699200008\n",
      "P(X = 3) = C(16 3) -- 560 X 0.21599999999999997 X 6.7108864000000044e-06 = 0.0008117488189440004\n",
      "P(X = 4) = C(16 4) -- 1820 X 0.1296 X 1.677721600000001e-05 = 0.003957275492352002\n",
      "P(X = 5) = C(16 5) -- 4368 X 0.07775999999999998 X 4.1943040000000025e-05 = 0.014246191772467205\n",
      "P(X = 6) = C(16 6) -- 8008 X 0.04665599999999999 X 0.00010485760000000006 = 0.039177027374284815\n",
      "P(X = 7) = C(16 7) -- 11440 X 0.027993599999999993 X 0.0002621440000000001 = 0.08395077294489603\n",
      "P(X = 8) = C(16 8) -- 12870 X 0.016796159999999994 X 0.0006553600000000003 = 0.14166692934451203\n",
      "P(X = 9) = C(16 9) -- 11440 X 0.010077695999999997 X 0.0016384000000000006 = 0.18888923912601602\n",
      "P(X = 10) = C(16 10) -- 8008 X 0.006046617599999997 X 0.0040960000000000015 = 0.1983337010823168\n",
      "P(X = 11) = C(16 11) -- 4368 X 0.0036279705599999985 X 0.010240000000000003 = 0.16227302815825917\n",
      "P(X = 12) = C(16 12) -- 1820 X 0.002176782335999999 X 0.025600000000000005 = 0.10142064259891198\n",
      "P(X = 13) = C(16 13) -- 560 X 0.0013060694015999993 X 0.06400000000000002 = 0.04680952735334398\n",
      "P(X = 14) = C(16 14) -- 120 X 0.0007836416409599996 X 0.16000000000000003 = 0.015045919506431993\n",
      "P(X = 15) = C(16 15) -- 16 X 0.00047018498457599973 X 0.4 = 0.0030091839012863983\n",
      "P(X = 16) = C(16 16) -- 1 X 0.00028211099074559984 X 1.0 = 0.00028211099074559984\n"
     ]
    },
    {
     "data": {
      "image/png": "[encoded data removed]",
      "text/plain": [
       "<Figure size 432x288 with 1 Axes>"
      ]
     },
     "metadata": {
      "needs_background": "light"
     },
     "output_type": "display_data"
    }
   ],
   "source": [
    "#Para responder [Cap 6 - Ex 26-28] do livro: Estatistica Basica - P. A. Morettin, W. de O. Bussab\n",
    "\n",
    "\n",
    "from math import comb\n",
    "import matplotlib.pyplot as plt\n",
    "\n",
    "\n",
    "n = int(input(\"Insira um n:\")) \n",
    "p = float(input(\"Insira um p:\")) \n",
    "q = (1 - p)\n",
    "\n",
    "# frequencies\n",
    "X = []\n",
    "prob = []\n",
    "\n",
    "\n",
    "a = 0\n",
    "b = n\n",
    "while(a <= n):\n",
    "    combResult = comb(n, a)\n",
    "\n",
    "    x = pow(p, a)\n",
    "    y = pow(q, b)\n",
    "\n",
    "    result = combResult * x * y\n",
    "\n",
    "    X.append(a)\n",
    "    prob.append(result)\n",
    "\n",
    "    frase = f'P(X = {a}) = C({n} {a}) -- {combResult} X {x} X {y} = {result}'\n",
    "\n",
    "    print(frase)\n",
    "\n",
    "    a = a + 1\n",
    "    b = b - 1\n",
    "\n",
    "\n",
    "# setting the ranges and no. of intervals\n",
    "range = (0, 10)\n",
    "bins = 10 \n",
    " \n",
    "# plotting a histogram\n",
    "plt.scatter(X, prob, label= \"point\", color= \"green\",\n",
    "            marker= \".\", s=50)\n",
    " \n",
    "# x-axis label\n",
    "plt.xlabel('x - axis')\n",
    "# frequency label\n",
    "plt.ylabel('y - axis')\n",
    "# plot title\n",
    "plt.title('Binomial')\n",
    "# showing legend\n",
    "plt.legend()\n",
    " \n",
    "# function to show the plot\n",
    "plt.show()"
   ]
  },
  {
   "cell_type": "code",
   "execution_count": null,
   "metadata": {},
   "outputs": [],
   "source": []
  }
 ],
 "metadata": {
  "kernelspec": {
   "display_name": "Python 3.8.10 64-bit",
   "language": "python",
   "name": "python3"
  },
  "language_info": {
   "codemirror_mode": {
    "name": "ipython",
    "version": 3
   },
   "file_extension": ".py",
   "mimetype": "text/x-python",
   "name": "python",
   "nbconvert_exporter": "python",
   "pygments_lexer": "ipython3",
   "version": "3.8.10"
  },
  "orig_nbformat": 4,
  "vscode": {
   "interpreter": {
    "hash": "916dbcbb3f70747c44a77c7bcd40155683ae19c65e1c03b4aa3499c5328201f1"
   }
  }
 },
 "nbformat": 4,
 "nbformat_minor": 2
}
