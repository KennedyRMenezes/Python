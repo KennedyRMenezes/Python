{
 "cells": [
  {
   "cell_type": "code",
   "execution_count": 1,
   "metadata": {},
   "outputs": [
    {
     "name": "stdout",
     "output_type": "stream",
     "text": [
      "[[(datetime.datetime(2022, 9, 14, 0, 0), 'HotWheels', 13.99, 'Novo', 'Compra', 'Brinquedo')], [(datetime.datetime(2022, 9, 14, 0, 0), '1984', 34.99, 'Novo', 'Presente', 'Livro')], [(datetime.datetime(2022, 9, 14, 0, 0), 'Itau', 10000.0, '-', 'Empréstimo', 'Dinheiro')], [(datetime.datetime(2022, 9, 14, 0, 0), 'Montegrappa', 173.99, 'Novo', 'Presente', 'Caneta')], [(datetime.datetime(2022, 9, 14, 0, 0), 'Como Escrever', 24.99, 'Novo', 'Compra', 'Curso')], [(datetime.datetime(2022, 9, 15, 0, 0), 'Jack Daniels', 139.99, 'Novo', 'Presente', 'Bebida')], [(datetime.datetime(2022, 9, 16, 0, 0), 'Calça', 5.0, 'Usado', 'Presente', 'Roupa')], [(datetime.datetime(2022, 9, 16, 0, 0), 'Jaqueta', 35.0, 'Usado', 'Compra', 'Roupa')], [(datetime.datetime(2022, 9, 17, 0, 0), 'Relógio', 7000.0, 'Novo', 'Compra', 'Acessório')]]\n"
     ]
    }
   ],
   "source": [
    "from datetime import datetime\n",
    "\n",
    "head = [\"DATA\", \"PRODUTO\", \"VALOR\", \"DESCRIÇÃO\", \"RECEBIMENTO\", \"TIPO\"]\n",
    "\n",
    "#DATA\n",
    "l = [   [(datetime(2022, 9, 14), \"HotWheels\", 13.99, \"Novo\", \"Compra\", \"Brinquedo\")],\n",
    "        [(datetime(2022, 9, 14), \"1984\", 34.99, \"Novo\", \"Presente\", \"Livro\")],\n",
    "        [(datetime(2022, 9, 14), \"Itau\", 10000.00, \"-\", \"Empréstimo\", \"Dinheiro\")],\n",
    "        [(datetime(2022, 9, 14), \"Montegrappa\", 173.99, \"Novo\", \"Presente\", \"Caneta\")],\n",
    "        [(datetime(2022, 9, 14), \"Como Escrever\", 24.99, \"Novo\", \"Compra\", \"Curso\")],\n",
    "        [(datetime(2022, 9, 15), \"Jack Daniels\", 139.99, \"Novo\", \"Presente\", \"Bebida\")],\n",
    "        [(datetime(2022, 9, 16), \"Calça\", 5.00, \"Usado\", \"Presente\", \"Roupa\")],\n",
    "        [(datetime(2022, 9, 16), \"Jaqueta\", 35.00, \"Usado\", \"Compra\", \"Roupa\")],\n",
    "        [(datetime(2022, 9, 17), \"Relógio\", 7000.00, \"Novo\", \"Compra\", \"Acessório\")]\n",
    "]\n",
    "\n",
    "print(l)"
   ]
  },
  {
   "cell_type": "code",
   "execution_count": 132,
   "metadata": {},
   "outputs": [
    {
     "data": {
      "text/plain": [
       "'\\n#         DATA       PRODUTO   VALOR DESCRIÇÃO RECEBIMENTO       TIPO\\n# 0 2022-09-14     HotWheels   13.99      Novo      Compra  Brinquedo\\n# 1 2022-09-15  Jack Daniels  139.99      Novo    Presente     Bebida\\n'"
      ]
     },
     "execution_count": 132,
     "metadata": {},
     "output_type": "execute_result"
    }
   ],
   "source": [
    "#Tried this, but not worked\n",
    "\n",
    "\"\"\"\n",
    "import pandas as pd\n",
    "\n",
    "l_df = pd.DataFrame(l, columns=head)\n",
    "\n",
    "print(l_df)\n",
    "\"\"\"\n",
    "\n",
    "#This is what I was looking for...\n",
    "\n",
    "\"\"\"\n",
    "#         DATA       PRODUTO   VALOR DESCRIÇÃO RECEBIMENTO       TIPO\n",
    "# 0 2022-09-14     HotWheels   13.99      Novo      Compra  Brinquedo\n",
    "# 1 2022-09-15  Jack Daniels  139.99      Novo    Presente     Bebida\n",
    "\"\"\""
   ]
  },
  {
   "cell_type": "code",
   "execution_count": null,
   "metadata": {},
   "outputs": [],
   "source": []
  },
  {
   "cell_type": "code",
   "execution_count": 3,
   "metadata": {},
   "outputs": [
    {
     "name": "stdout",
     "output_type": "stream",
     "text": [
      "        DATA        PRODUTO     VALOR DESCRIÇÃO RECEBIMENTO       TIPO\n",
      "0 2022-09-14      HotWheels     13.99      Novo      Compra  Brinquedo\n",
      "1 2022-09-14           1984     34.99      Novo    Presente      Livro\n",
      "2 2022-09-14           Itau  10000.00         -  Empréstimo   Dinheiro\n",
      "3 2022-09-14    Montegrappa    173.99      Novo    Presente     Caneta\n",
      "4 2022-09-14  Como Escrever     24.99      Novo      Compra      Curso\n",
      "5 2022-09-15   Jack Daniels    139.99      Novo    Presente     Bebida\n",
      "6 2022-09-16          Calça      5.00     Usado    Presente      Roupa\n",
      "7 2022-09-16        Jaqueta     35.00     Usado      Compra      Roupa\n",
      "8 2022-09-17        Relógio   7000.00      Novo      Compra  Acessório\n",
      "<class 'pandas.core.frame.DataFrame'>\n",
      "RangeIndex: 9 entries, 0 to 8\n",
      "Data columns (total 6 columns):\n",
      " #   Column       Non-Null Count  Dtype         \n",
      "---  ------       --------------  -----         \n",
      " 0   DATA         9 non-null      datetime64[ns]\n",
      " 1   PRODUTO      9 non-null      object        \n",
      " 2   VALOR        9 non-null      float64       \n",
      " 3   DESCRIÇÃO    9 non-null      object        \n",
      " 4   RECEBIMENTO  9 non-null      object        \n",
      " 5   TIPO         9 non-null      object        \n",
      "dtypes: datetime64[ns](1), float64(1), object(4)\n",
      "memory usage: 560.0+ bytes\n",
      "None\n"
     ]
    }
   ],
   "source": [
    "#Transforming lists to DataFrame\n",
    "\n",
    "import pandas as pd\n",
    "\n",
    "l_df = pd.DataFrame()\n",
    "for i in range(len(l)):\n",
    "    df = pd.DataFrame(l[i])\n",
    "    l_df = pd.concat([l_df, df], ignore_index=True)\n",
    "\n",
    "l_df.columns = head\n",
    "print(l_df)\n",
    "print(l_df.info())\n"
   ]
  },
  {
   "cell_type": "code",
   "execution_count": 134,
   "metadata": {},
   "outputs": [
    {
     "name": "stdout",
     "output_type": "stream",
     "text": [
      "0    False\n",
      "1    False\n",
      "2    False\n",
      "3    False\n",
      "4    False\n",
      "5    False\n",
      "6     True\n",
      "7     True\n",
      "8    False\n",
      "Name: DESCRIÇÃO, dtype: bool\n",
      "        DATA  PRODUTO  VALOR DESCRIÇÃO RECEBIMENTO   TIPO\n",
      "6 2022-09-16    Calça    5.0     Usado    Presente  Roupa\n",
      "7 2022-09-16  Jaqueta   35.0     Usado      Compra  Roupa\n"
     ]
    }
   ],
   "source": [
    "#Filtering...\n",
    "\n",
    "usedOrNot = l_df[\"DESCRIÇÃO\"]\n",
    "used = usedOrNot == \"Usado\" \n",
    "print(used)\n",
    "\n",
    "tipo = l_df[used]\n",
    "print(tipo)"
   ]
  },
  {
   "cell_type": "code",
   "execution_count": 139,
   "metadata": {},
   "outputs": [
    {
     "name": "stdout",
     "output_type": "stream",
     "text": [
      "        DATA        PRODUTO     VALOR DESCRIÇÃO RECEBIMENTO       TIPO\n",
      "0 2022-09-14      HotWheels     13.99      Novo      Compra  Brinquedo\n",
      "2 2022-09-14           Itau  10000.00         -  Empréstimo   Dinheiro\n",
      "4 2022-09-14  Como Escrever     24.99      Novo      Compra      Curso\n",
      "7 2022-09-16        Jaqueta     35.00     Usado      Compra      Roupa\n",
      "8 2022-09-17        Relógio   7000.00      Novo      Compra  Acessório\n"
     ]
    }
   ],
   "source": [
    "#Filtering by two variables\n",
    "\n",
    "new_price = l_df[l_df['RECEBIMENTO'].isin([\"Empréstimo\",\"Compra\"])]\n",
    "print(new_price)"
   ]
  },
  {
   "cell_type": "code",
   "execution_count": 140,
   "metadata": {},
   "outputs": [
    {
     "name": "stdout",
     "output_type": "stream",
     "text": [
      "17073.98\n"
     ]
    }
   ],
   "source": [
    "#Sum the value that match by the filter\n",
    "\n",
    "price_total = new_price[\"VALOR\"].sum()\n",
    "print(price_total)"
   ]
  },
  {
   "cell_type": "code",
   "execution_count": 137,
   "metadata": {},
   "outputs": [
    {
     "name": "stdout",
     "output_type": "stream",
     "text": [
      "        DATA        PRODUTO     VALOR DESCRIÇÃO RECEBIMENTO       TIPO\n",
      "0 2022-09-14      HotWheels     13.99      Novo      Compra  Brinquedo\n",
      "1 2022-09-14           1984     34.99      Novo    Presente      Livro\n",
      "2 2022-09-14           Itau  10000.00         -  Empréstimo   Dinheiro\n",
      "3 2022-09-14    Montegrappa    173.99      Novo    Presente     Caneta\n",
      "4 2022-09-14  Como Escrever     24.99      Novo      Compra      Curso\n",
      "5 2022-09-15   Jack Daniels    139.99      Novo    Presente     Bebida\n",
      "6 2022-09-16          Calça      5.00     Usado    Presente      Roupa\n",
      "7 2022-09-16        Jaqueta     35.00     Usado      Compra      Roupa\n",
      "8 2022-09-17        Relógio   7000.00      Novo      Compra  Acessório \n",
      "\n",
      "        DATA        PRODUTO     VALOR DESCRIÇÃO RECEBIMENTO       TIPO\n",
      "0 2022-09-14      HotWheels     13.99      Novo      Compra  Brinquedo\n",
      "1 2022-09-14           1984     34.99      Novo    Presente      Livro\n",
      "2 2022-09-14           Itau  10000.00         -  Empréstimo   Dinheiro\n",
      "3 2022-09-14    Montegrappa    173.99      Novo    Presente     Caneta\n",
      "4 2022-09-14  Como Escrever     24.99      Novo      Compra      Curso \n",
      "\n",
      "        DATA      PRODUTO   VALOR DESCRIÇÃO RECEBIMENTO    TIPO\n",
      "1 2022-09-14         1984   34.99      Novo    Presente   Livro\n",
      "3 2022-09-14  Montegrappa  173.99      Novo    Presente  Caneta \n",
      "\n",
      "208.98 \n",
      "\n"
     ]
    }
   ],
   "source": [
    "print(l_df, \"\\n\")\n",
    "\n",
    "#First: Filtering the day\n",
    "\n",
    "dia = l_df[l_df[\"DATA\"].isin([\"2022-09-14\"])]\n",
    "print(dia, \"\\n\")\n",
    "\n",
    "#Second: Filtering \"RECEBIMENTO\"\n",
    "\n",
    "tipo = dia[dia[\"RECEBIMENTO\"].isin([\"Presente\"])]\n",
    "print(tipo, \"\\n\")\n",
    "\n",
    "#Third: If the results of all the filters before calculate the value\n",
    "#   \"In this day, all this type of receive had that amount of value\"\n",
    "\n",
    "valor_total = round(tipo[\"VALOR\"].sum(), 2)\n",
    "print(valor_total, \"\\n\")"
   ]
  },
  {
   "cell_type": "code",
   "execution_count": null,
   "metadata": {},
   "outputs": [],
   "source": []
  }
 ],
 "metadata": {
  "kernelspec": {
   "display_name": "Python 3.8.10 64-bit",
   "language": "python",
   "name": "python3"
  },
  "language_info": {
   "codemirror_mode": {
    "name": "ipython",
    "version": 3
   },
   "file_extension": ".py",
   "mimetype": "text/x-python",
   "name": "python",
   "nbconvert_exporter": "python",
   "pygments_lexer": "ipython3",
   "version": "3.8.10"
  },
  "orig_nbformat": 4,
  "vscode": {
   "interpreter": {
    "hash": "916dbcbb3f70747c44a77c7bcd40155683ae19c65e1c03b4aa3499c5328201f1"
   }
  }
 },
 "nbformat": 4,
 "nbformat_minor": 2
}
