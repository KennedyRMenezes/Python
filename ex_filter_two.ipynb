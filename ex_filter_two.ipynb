{
 "cells": [
  {
   "cell_type": "code",
   "execution_count": 9,
   "metadata": {},
   "outputs": [],
   "source": [
    "from datetime import datetime\n",
    "\n",
    "head = [\"DATA\", \"VALOR\", \"DESCRIÇÃO\", \"PAGAMENTO\", \"TIPO\"]\n",
    "\n",
    "#DATA\n",
    "l = [   [(datetime(2022, 9, 14), 13.99, \"Cartão\", \"Crédito\", \"Spotify\")],\n",
    "        [(datetime(2022, 9, 14), 27.90, \"Cartão\", \"Crédito\", \"Netflix\")],\n",
    "        [(datetime(2022, 9, 14), 35.99, \"Cartão\", \"Débito\", \"Água\")],\n",
    "        [(datetime(2022, 9, 14), 5.99, \"Dinheiro\", \"A vista\", \"Lanche\")],\n",
    "        [(datetime(2022, 9, 14), 14.90, \"Cartão\", \"Crédito\", \"Amazon\")],\n",
    "        [(datetime(2022, 9, 14), 17.90, \"Cartão\", \"Crédito\", \"Youtube Premium\")],\n",
    "        [(datetime(2022, 9, 14), 24.99, \"Cartão\", \"Crédito\", \"Curso Udemy\")],\n",
    "        [(datetime(2022, 9, 14), 4.40, \"Dinheiro\", \"A vista\", \"Passagem\")],\n",
    "        [(datetime(2022, 9, 14), 35.99, \"Cartão\", \"Débito\", \"Almoço\")],\n",
    "        [(datetime(2022, 9, 14), 35.99, \"Cartão\", \"Débito\", \"Doce\")],\n",
    "        [(datetime(2022, 10, 27), 13.99, \"Cartão\", \"Crédito\", \"Spotify\")],\n",
    "        [(datetime(2022, 10, 27), 27.90, \"Cartão\", \"Crédito\", \"Netflix\")],\n",
    "        [(datetime(2022, 10, 27), 14.90, \"Cartão\", \"Crédito\", \"Amazon\")],\n",
    "        [(datetime(2022, 10, 27), 17.90, \"Cartão\", \"Crédito\", \"Youtube Premium\")],\n",
    "        [(datetime(2022, 10, 27), 24.99, \"Cartão\", \"Crédito\", \"Curso Udemy\")],\n",
    "        [(datetime(2022, 10, 27), 35.99, \"Cartão\", \"Débito\", \"Almoço\")],\n",
    "        [(datetime(2022, 10, 27), 35.99, \"Cartão\", \"Débito\", \"Doce\")],\n",
    "        [(datetime(2022, 11, 5), 13.99, \"Cartão\", \"Crédito\", \"Spotify\")],\n",
    "        [(datetime(2022, 11, 5), 27.90, \"Cartão\", \"Crédito\", \"Netflix\")],\n",
    "        [(datetime(2022, 11, 5), 14.90, \"Cartão\", \"Crédito\", \"Amazon\")],\n",
    "        [(datetime(2022, 11, 5), 17.90, \"Cartão\", \"Crédito\", \"Youtube Premium\")],\n",
    "        [(datetime(2022, 11, 5), 24.99, \"Cartão\", \"Crédito\", \"Curso Udemy\")],\n",
    "        [(datetime(2022, 11, 5), 35.99, \"Cartão\", \"Débito\", \"Almoço\")],\n",
    "        [(datetime(2022, 11, 5), 35.99, \"Cartão\", \"Débito\", \"Doce\")]\n",
    "]\n",
    "\n",
    "# print(l)"
   ]
  },
  {
   "cell_type": "code",
   "execution_count": 10,
   "metadata": {},
   "outputs": [
    {
     "data": {
      "text/plain": [
       "'\\n#         DATA       PRODUTO   VALOR DESCRIÇÃO RECEBIMENTO       TIPO\\n# 0 2022-09-14     HotWheels   13.99      Novo      Compra  Brinquedo\\n# 1 2022-09-15  Jack Daniels  139.99      Novo    Presente     Bebida\\n'"
      ]
     },
     "execution_count": 10,
     "metadata": {},
     "output_type": "execute_result"
    }
   ],
   "source": [
    "#Tried this, but not worked\n",
    "\n",
    "\"\"\"\n",
    "import pandas as pd\n",
    "\n",
    "l_df = pd.DataFrame(l, columns=head)\n",
    "\n",
    "print(l_df)\n",
    "\"\"\"\n",
    "\n",
    "#This is what I was looking for...\n",
    "\n",
    "\"\"\"\n",
    "#         DATA       PRODUTO   VALOR DESCRIÇÃO RECEBIMENTO       TIPO\n",
    "# 0 2022-09-14     HotWheels   13.99      Novo      Compra  Brinquedo\n",
    "# 1 2022-09-15  Jack Daniels  139.99      Novo    Presente     Bebida\n",
    "\"\"\""
   ]
  },
  {
   "cell_type": "code",
   "execution_count": null,
   "metadata": {},
   "outputs": [],
   "source": []
  },
  {
   "cell_type": "code",
   "execution_count": 11,
   "metadata": {},
   "outputs": [
    {
     "name": "stdout",
     "output_type": "stream",
     "text": [
      "         DATA  VALOR DESCRIÇÃO PAGAMENTO             TIPO\n",
      "0  2022-09-14  13.99    Cartão   Crédito          Spotify\n",
      "1  2022-09-14  27.90    Cartão   Crédito          Netflix\n",
      "2  2022-09-14  35.99    Cartão    Débito             Água\n",
      "3  2022-09-14   5.99  Dinheiro   A vista           Lanche\n",
      "4  2022-09-14  14.90    Cartão   Crédito           Amazon\n",
      "5  2022-09-14  17.90    Cartão   Crédito  Youtube Premium\n",
      "6  2022-09-14  24.99    Cartão   Crédito      Curso Udemy\n",
      "7  2022-09-14   4.40  Dinheiro   A vista         Passagem\n",
      "8  2022-09-14  35.99    Cartão    Débito           Almoço\n",
      "9  2022-09-14  35.99    Cartão    Débito             Doce\n",
      "10 2022-10-27  13.99    Cartão   Crédito          Spotify\n",
      "11 2022-10-27  27.90    Cartão   Crédito          Netflix\n",
      "12 2022-10-27  14.90    Cartão   Crédito           Amazon\n",
      "13 2022-10-27  17.90    Cartão   Crédito  Youtube Premium\n",
      "14 2022-10-27  24.99    Cartão   Crédito      Curso Udemy\n",
      "15 2022-10-27  35.99    Cartão    Débito           Almoço\n",
      "16 2022-10-27  35.99    Cartão    Débito             Doce\n",
      "17 2022-11-05  13.99    Cartão   Crédito          Spotify\n",
      "18 2022-11-05  27.90    Cartão   Crédito          Netflix\n",
      "19 2022-11-05  14.90    Cartão   Crédito           Amazon\n",
      "20 2022-11-05  17.90    Cartão   Crédito  Youtube Premium\n",
      "21 2022-11-05  24.99    Cartão   Crédito      Curso Udemy\n",
      "22 2022-11-05  35.99    Cartão    Débito           Almoço\n",
      "23 2022-11-05  35.99    Cartão    Débito             Doce\n"
     ]
    }
   ],
   "source": [
    "#Transforming lists to DataFrame\n",
    "\n",
    "import pandas as pd\n",
    "\n",
    "l_df = pd.DataFrame()\n",
    "for i in range(len(l)):\n",
    "    df = pd.DataFrame(l[i])\n",
    "    l_df = pd.concat([l_df, df], ignore_index=True)\n",
    "\n",
    "l_df.columns = head\n",
    "print(l_df)"
   ]
  },
  {
   "cell_type": "code",
   "execution_count": 12,
   "metadata": {},
   "outputs": [
    {
     "name": "stdout",
     "output_type": "stream",
     "text": [
      "<class 'pandas.core.frame.DataFrame'>\n",
      "RangeIndex: 24 entries, 0 to 23\n",
      "Data columns (total 5 columns):\n",
      " #   Column     Non-Null Count  Dtype         \n",
      "---  ------     --------------  -----         \n",
      " 0   DATA       24 non-null     datetime64[ns]\n",
      " 1   VALOR      24 non-null     float64       \n",
      " 2   DESCRIÇÃO  24 non-null     object        \n",
      " 3   PAGAMENTO  24 non-null     object        \n",
      " 4   TIPO       24 non-null     object        \n",
      "dtypes: datetime64[ns](1), float64(1), object(3)\n",
      "memory usage: 1.1+ KB\n",
      "None\n"
     ]
    }
   ],
   "source": [
    "print(l_df.info())"
   ]
  },
  {
   "cell_type": "code",
   "execution_count": 13,
   "metadata": {},
   "outputs": [],
   "source": [
    "#Filtering by two variables\n",
    "\n",
    "# new_price = l_df[l_df['RECEBIMENTO'].isin([\"Empréstimo\",\"Compra\"])]\n",
    "# print(new_price)"
   ]
  },
  {
   "cell_type": "code",
   "execution_count": 14,
   "metadata": {},
   "outputs": [],
   "source": [
    "#Sum the value that match by the filter\n",
    "\n",
    "# price_total = new_price[\"VALOR\"].sum()\n",
    "# print(price_total)"
   ]
  },
  {
   "cell_type": "code",
   "execution_count": 15,
   "metadata": {},
   "outputs": [
    {
     "name": "stdout",
     "output_type": "stream",
     "text": [
      "        DATA  VALOR DESCRIÇÃO PAGAMENTO             TIPO\n",
      "0 2022-09-14  13.99    Cartão   Crédito          Spotify\n",
      "1 2022-09-14  27.90    Cartão   Crédito          Netflix\n",
      "2 2022-09-14  35.99    Cartão    Débito             Água\n",
      "3 2022-09-14   5.99  Dinheiro   A vista           Lanche\n",
      "4 2022-09-14  14.90    Cartão   Crédito           Amazon\n",
      "5 2022-09-14  17.90    Cartão   Crédito  Youtube Premium\n",
      "6 2022-09-14  24.99    Cartão   Crédito      Curso Udemy\n",
      "7 2022-09-14   4.40  Dinheiro   A vista         Passagem\n",
      "8 2022-09-14  35.99    Cartão    Débito           Almoço\n",
      "9 2022-09-14  35.99    Cartão    Débito             Doce \n",
      "\n",
      "        DATA  VALOR DESCRIÇÃO PAGAMENTO      TIPO\n",
      "2 2022-09-14  35.99    Cartão    Débito      Água\n",
      "3 2022-09-14   5.99  Dinheiro   A vista    Lanche\n",
      "7 2022-09-14   4.40  Dinheiro   A vista  Passagem\n",
      "8 2022-09-14  35.99    Cartão    Débito    Almoço\n",
      "9 2022-09-14  35.99    Cartão    Débito      Doce \n",
      "\n",
      "R$ 118.36 \n",
      "\n"
     ]
    }
   ],
   "source": [
    "# print(l_df, \"\\n\")\n",
    "\n",
    "#First: Filtering the day\n",
    "\n",
    "dia = l_df[l_df[\"DATA\"].isin([\"2022-09-14\"])]\n",
    "print(dia, \"\\n\")\n",
    "\n",
    "#Second: Filtering \"RECEBIMENTO\"\n",
    "\n",
    "tipo = dia[dia[\"PAGAMENTO\"].isin([\"Débito\", \"A vista\"])]\n",
    "print(tipo, \"\\n\")\n",
    "\n",
    "#Third: If the results of all the filters before calculate the value\n",
    "#   \"In this day, all this type of receive had that amount of value\"\n",
    "\n",
    "valor_total = str(round(tipo[\"VALOR\"].sum(), 2))\n",
    "string_value = \"R$ \" + valor_total\n",
    "print(string_value, \"\\n\")"
   ]
  },
  {
   "cell_type": "code",
   "execution_count": null,
   "metadata": {},
   "outputs": [],
   "source": []
  }
 ],
 "metadata": {
  "kernelspec": {
   "display_name": "Python 3.8.10 64-bit",
   "language": "python",
   "name": "python3"
  },
  "language_info": {
   "codemirror_mode": {
    "name": "ipython",
    "version": 3
   },
   "file_extension": ".py",
   "mimetype": "text/x-python",
   "name": "python",
   "nbconvert_exporter": "python",
   "pygments_lexer": "ipython3",
   "version": "3.8.10"
  },
  "orig_nbformat": 4,
  "vscode": {
   "interpreter": {
    "hash": "916dbcbb3f70747c44a77c7bcd40155683ae19c65e1c03b4aa3499c5328201f1"
   }
  }
 },
 "nbformat": 4,
 "nbformat_minor": 2
}
